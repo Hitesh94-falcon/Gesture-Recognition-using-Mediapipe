{
 "cells": [
  {
   "cell_type": "code",
   "execution_count": null,
   "id": "359532d0",
   "metadata": {},
   "outputs": [
    {
     "name": "stdout",
     "output_type": "stream",
     "text": [
      "49291.120437956204\n"
     ]
    }
   ],
   "source": [
    "import pandas as pd\n",
    "import numpy as np\n",
    "df = pd.read_csv(r\"D:\\Git_projects\\Gesture Recognition\\log(1).csv\")\n",
    "column_name = df[\"area\"]\n",
    "print(np.average(column_name),np.mean(column_name))\n"
   ]
  }
 ],
 "metadata": {
  "kernelspec": {
   "display_name": "gesturerecg",
   "language": "python",
   "name": "python3"
  },
  "language_info": {
   "codemirror_mode": {
    "name": "ipython",
    "version": 3
   },
   "file_extension": ".py",
   "mimetype": "text/x-python",
   "name": "python",
   "nbconvert_exporter": "python",
   "pygments_lexer": "ipython3",
   "version": "3.8.20"
  }
 },
 "nbformat": 4,
 "nbformat_minor": 5
}
